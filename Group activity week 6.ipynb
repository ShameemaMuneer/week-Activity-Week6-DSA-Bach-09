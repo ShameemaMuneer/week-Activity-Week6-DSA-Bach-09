{
 "cells": [
  {
   "cell_type": "markdown",
   "id": "e8bd5a5c",
   "metadata": {},
   "source": [
    "# Activity Week 06\n"
   ]
  },
  {
   "cell_type": "markdown",
   "id": "f8fe3b46",
   "metadata": {},
   "source": [
    "## **Question**"
   ]
  },
  {
   "cell_type": "markdown",
   "id": "1d773635",
   "metadata": {},
   "source": [
    "**Read the data set into python (Find the dataset here)**\n",
    "1. Find out how many countries are there in the dataset.\n",
    "2. Examine the data by using visualizations.\n",
    "3. Find out how many countries with respect to the region are available\n",
    "   in the dataset\n",
    "4. On average which region has the highest\n",
    "   a. GDP per capita (current US$)\n",
    "   b. International trade: Imports (million US$)\n",
    "5. Find out which region has more consistent with respect to GDP per\n",
    "   capita (current US$)"
   ]
  },
  {
   "cell_type": "markdown",
   "id": "94d481ec",
   "metadata": {},
   "source": [
    "## **Answer**"
   ]
  },
  {
   "cell_type": "code",
   "execution_count": 6,
   "id": "4f831ee6",
   "metadata": {},
   "outputs": [],
   "source": [
    "# Importing python libraries\n",
    "import pandas as pd\n",
    "import numpy as np\n",
    "import matplotlib.pyplot as plt\n",
    "import seaborn as sns"
   ]
  },
  {
   "cell_type": "code",
   "execution_count": 11,
   "id": "64a1a549",
   "metadata": {
    "scrolled": true
   },
   "outputs": [
    {
     "data": {
      "text/html": [
       "<div>\n",
       "<style scoped>\n",
       "    .dataframe tbody tr th:only-of-type {\n",
       "        vertical-align: middle;\n",
       "    }\n",
       "\n",
       "    .dataframe tbody tr th {\n",
       "        vertical-align: top;\n",
       "    }\n",
       "\n",
       "    .dataframe thead th {\n",
       "        text-align: right;\n",
       "    }\n",
       "</style>\n",
       "<table border=\"1\" class=\"dataframe\">\n",
       "  <thead>\n",
       "    <tr style=\"text-align: right;\">\n",
       "      <th></th>\n",
       "      <th>country</th>\n",
       "      <th>Region</th>\n",
       "      <th>Surface area (km2)</th>\n",
       "      <th>Population in thousands (2017)</th>\n",
       "      <th>GDP per capita (current US$)</th>\n",
       "      <th>Agricultural production index</th>\n",
       "      <th>International trade: Imports (million US$)</th>\n",
       "    </tr>\n",
       "  </thead>\n",
       "  <tbody>\n",
       "    <tr>\n",
       "      <th>0</th>\n",
       "      <td>Afghanistan</td>\n",
       "      <td>SouthernAsia</td>\n",
       "      <td>652864.0</td>\n",
       "      <td>35530.0</td>\n",
       "      <td>623.2</td>\n",
       "      <td>125.0</td>\n",
       "      <td>3568.0</td>\n",
       "    </tr>\n",
       "    <tr>\n",
       "      <th>1</th>\n",
       "      <td>Albania</td>\n",
       "      <td>SouthernEurope</td>\n",
       "      <td>28748.0</td>\n",
       "      <td>2930.0</td>\n",
       "      <td>3984.2</td>\n",
       "      <td>134.0</td>\n",
       "      <td>4669.0</td>\n",
       "    </tr>\n",
       "    <tr>\n",
       "      <th>2</th>\n",
       "      <td>Algeria</td>\n",
       "      <td>NorthernAfrica</td>\n",
       "      <td>2381741.0</td>\n",
       "      <td>41318.0</td>\n",
       "      <td>4154.1</td>\n",
       "      <td>160.0</td>\n",
       "      <td>47091.0</td>\n",
       "    </tr>\n",
       "    <tr>\n",
       "      <th>3</th>\n",
       "      <td>Angola</td>\n",
       "      <td>MiddleAfrica</td>\n",
       "      <td>1246700.0</td>\n",
       "      <td>29784.0</td>\n",
       "      <td>4714.1</td>\n",
       "      <td>175.0</td>\n",
       "      <td>8790.0</td>\n",
       "    </tr>\n",
       "    <tr>\n",
       "      <th>4</th>\n",
       "      <td>Antigua and Barbuda</td>\n",
       "      <td>Caribbean</td>\n",
       "      <td>442.0</td>\n",
       "      <td>102.0</td>\n",
       "      <td>14764.5</td>\n",
       "      <td>88.0</td>\n",
       "      <td>491.0</td>\n",
       "    </tr>\n",
       "    <tr>\n",
       "      <th>...</th>\n",
       "      <td>...</td>\n",
       "      <td>...</td>\n",
       "      <td>...</td>\n",
       "      <td>...</td>\n",
       "      <td>...</td>\n",
       "      <td>...</td>\n",
       "      <td>...</td>\n",
       "    </tr>\n",
       "    <tr>\n",
       "      <th>191</th>\n",
       "      <td>Venezuela (Bolivarian Republic of)</td>\n",
       "      <td>SouthAmerica</td>\n",
       "      <td>912050.0</td>\n",
       "      <td>31977.0</td>\n",
       "      <td>11068.9</td>\n",
       "      <td>118.0</td>\n",
       "      <td>16324.0</td>\n",
       "    </tr>\n",
       "    <tr>\n",
       "      <th>192</th>\n",
       "      <td>Viet Nam</td>\n",
       "      <td>South-easternAsia</td>\n",
       "      <td>330967.0</td>\n",
       "      <td>95541.0</td>\n",
       "      <td>2067.9</td>\n",
       "      <td>136.0</td>\n",
       "      <td>174111.0</td>\n",
       "    </tr>\n",
       "    <tr>\n",
       "      <th>193</th>\n",
       "      <td>Yemen</td>\n",
       "      <td>WesternAsia</td>\n",
       "      <td>527968.0</td>\n",
       "      <td>28250.0</td>\n",
       "      <td>1106.4</td>\n",
       "      <td>136.0</td>\n",
       "      <td>6861.0</td>\n",
       "    </tr>\n",
       "    <tr>\n",
       "      <th>194</th>\n",
       "      <td>Zambia</td>\n",
       "      <td>EasternAfrica</td>\n",
       "      <td>752612.0</td>\n",
       "      <td>17094.0</td>\n",
       "      <td>1311.1</td>\n",
       "      <td>179.0</td>\n",
       "      <td>7442.0</td>\n",
       "    </tr>\n",
       "    <tr>\n",
       "      <th>195</th>\n",
       "      <td>Zimbabwe</td>\n",
       "      <td>EasternAfrica</td>\n",
       "      <td>390757.0</td>\n",
       "      <td>16530.0</td>\n",
       "      <td>890.4</td>\n",
       "      <td>99.0</td>\n",
       "      <td>5212.0</td>\n",
       "    </tr>\n",
       "  </tbody>\n",
       "</table>\n",
       "<p>196 rows × 7 columns</p>\n",
       "</div>"
      ],
      "text/plain": [
       "                                country             Region  \\\n",
       "0                           Afghanistan       SouthernAsia   \n",
       "1                               Albania     SouthernEurope   \n",
       "2                               Algeria     NorthernAfrica   \n",
       "3                                Angola       MiddleAfrica   \n",
       "4                   Antigua and Barbuda          Caribbean   \n",
       "..                                  ...                ...   \n",
       "191  Venezuela (Bolivarian Republic of)       SouthAmerica   \n",
       "192                            Viet Nam  South-easternAsia   \n",
       "193                               Yemen        WesternAsia   \n",
       "194                              Zambia      EasternAfrica   \n",
       "195                            Zimbabwe      EasternAfrica   \n",
       "\n",
       "     Surface area (km2)  Population in thousands (2017)  \\\n",
       "0              652864.0                         35530.0   \n",
       "1               28748.0                          2930.0   \n",
       "2             2381741.0                         41318.0   \n",
       "3             1246700.0                         29784.0   \n",
       "4                 442.0                           102.0   \n",
       "..                  ...                             ...   \n",
       "191            912050.0                         31977.0   \n",
       "192            330967.0                         95541.0   \n",
       "193            527968.0                         28250.0   \n",
       "194            752612.0                         17094.0   \n",
       "195            390757.0                         16530.0   \n",
       "\n",
       "     GDP per capita (current US$)  Agricultural production index   \\\n",
       "0                           623.2                           125.0   \n",
       "1                          3984.2                           134.0   \n",
       "2                          4154.1                           160.0   \n",
       "3                          4714.1                           175.0   \n",
       "4                         14764.5                            88.0   \n",
       "..                            ...                             ...   \n",
       "191                       11068.9                           118.0   \n",
       "192                        2067.9                           136.0   \n",
       "193                        1106.4                           136.0   \n",
       "194                        1311.1                           179.0   \n",
       "195                         890.4                            99.0   \n",
       "\n",
       "     International trade: Imports (million US$)  \n",
       "0                                        3568.0  \n",
       "1                                        4669.0  \n",
       "2                                       47091.0  \n",
       "3                                        8790.0  \n",
       "4                                         491.0  \n",
       "..                                          ...  \n",
       "191                                     16324.0  \n",
       "192                                    174111.0  \n",
       "193                                      6861.0  \n",
       "194                                      7442.0  \n",
       "195                                      5212.0  \n",
       "\n",
       "[196 rows x 7 columns]"
      ]
     },
     "execution_count": 11,
     "metadata": {},
     "output_type": "execute_result"
    }
   ],
   "source": [
    "# Reading dataset to pyhon environment\n",
    "data=pd.read_excel('dataset_w6.xlsx')\n",
    "data\n"
   ]
  },
  {
   "cell_type": "code",
   "execution_count": 30,
   "id": "571a6c90",
   "metadata": {},
   "outputs": [
    {
     "name": "stdout",
     "output_type": "stream",
     "text": [
      "<class 'pandas.core.frame.DataFrame'>\n",
      "RangeIndex: 196 entries, 0 to 195\n",
      "Data columns (total 7 columns):\n",
      " #   Column                                      Non-Null Count  Dtype  \n",
      "---  ------                                      --------------  -----  \n",
      " 0   country                                     196 non-null    object \n",
      " 1   Region                                      196 non-null    object \n",
      " 2   Surface area (km2)                          196 non-null    float64\n",
      " 3   Population in thousands (2017)              196 non-null    float64\n",
      " 4   GDP per capita (current US$)                196 non-null    float64\n",
      " 5   Agricultural production index               196 non-null    float64\n",
      " 6   International trade: Imports (million US$)  196 non-null    float64\n",
      "dtypes: float64(5), object(2)\n",
      "memory usage: 10.8+ KB\n"
     ]
    }
   ],
   "source": [
    "# Checking for null values present in dataset\n",
    "data.info()"
   ]
  },
  {
   "cell_type": "code",
   "execution_count": null,
   "id": "189ccc49",
   "metadata": {},
   "outputs": [],
   "source": [
    "# it is a clean dataset .No null values."
   ]
  },
  {
   "cell_type": "markdown",
   "id": "e96e9e55",
   "metadata": {},
   "source": [
    "### **1.No.of Countries in the Dataset**"
   ]
  },
  {
   "cell_type": "code",
   "execution_count": 10,
   "id": "0d7f82e0",
   "metadata": {},
   "outputs": [
    {
     "data": {
      "text/plain": [
       "196"
      ]
     },
     "execution_count": 10,
     "metadata": {},
     "output_type": "execute_result"
    }
   ],
   "source": [
    "data['country'].count()"
   ]
  },
  {
   "cell_type": "markdown",
   "id": "d36f59f0",
   "metadata": {},
   "source": [
    "### **2.Data Visualization**"
   ]
  },
  {
   "cell_type": "markdown",
   "id": "b0df7af4",
   "metadata": {},
   "source": [
    "* **Population vs GDP per capita(current US$)**"
   ]
  },
  {
   "cell_type": "code",
   "execution_count": 55,
   "id": "82840c3d",
   "metadata": {},
   "outputs": [
    {
     "data": {
      "text/plain": [
       "Text(0.5, 1.0, 'Population vs GDP')"
      ]
     },
     "execution_count": 55,
     "metadata": {},
     "output_type": "execute_result"
    },
    {
     "data": {
      "text/plain": [
       "<Figure size 1440x1080 with 0 Axes>"
      ]
     },
     "metadata": {},
     "output_type": "display_data"
    },
    {
     "data": {
      "image/png": "[encoded data removed]",
      "text/plain": [
       "<Figure size 487.5x360 with 1 Axes>"
      ]
     },
     "metadata": {
      "needs_background": "light"
     },
     "output_type": "display_data"
    }
   ],
   "source": [
    "# Creating relplot by asigning measures to variables\n",
    "plt.figure(figsize=(20,15))\n",
    "sns.relplot(x='Population in thousands (2017)',y='GDP per capita (current US$)',hue='Region',data=data)\n",
    "plt.xlabel('Population in thousands (2017)',fontsize=12)\n",
    "plt.ylabel('GDP per capita (current US$)', fontsize=12)\n",
    "plt.title('Population vs GDP', fontsize=18)"
   ]
  },
  {
   "cell_type": "markdown",
   "id": "4d1c4cf6",
   "metadata": {},
   "source": [
    "* **Population vs International Trade:Imports(million US$)**"
   ]
  },
  {
   "cell_type": "code",
   "execution_count": 52,
   "id": "3b45b6cb",
   "metadata": {},
   "outputs": [
    {
     "data": {
      "text/plain": [
       "Text(0.5, 1.0, 'Population vs Imports')"
      ]
     },
     "execution_count": 52,
     "metadata": {},
     "output_type": "execute_result"
    },
    {
     "data": {
      "text/plain": [
       "<Figure size 1440x1080 with 0 Axes>"
      ]
     },
     "metadata": {},
     "output_type": "display_data"
    },
    {
     "data": {
      "image/png": "[encoded data removed]",
      "text/plain": [
       "<Figure size 487.5x360 with 1 Axes>"
      ]
     },
     "metadata": {
      "needs_background": "light"
     },
     "output_type": "display_data"
    }
   ],
   "source": [
    "# Creating a relplot by assigning measures to variables\n",
    "plt.figure(figsize=(20,15))\n",
    "sns.relplot(x='Population in thousands (2017)',y='International trade: Imports (million US$)',hue='Region',data=data)\n",
    "plt.xlabel('Population in thousands (2017)',fontsize=12)\n",
    "plt.ylabel('International trade: Imports (million US$)', fontsize=12)\n",
    "plt.title('Population vs Imports', fontsize=18)\n"
   ]
  },
  {
   "cell_type": "markdown",
   "id": "d082785e",
   "metadata": {},
   "source": [
    "* **Surface area vs Agricultural production index**"
   ]
  },
  {
   "cell_type": "code",
   "execution_count": 54,
   "id": "b7956a2b",
   "metadata": {},
   "outputs": [
    {
     "data": {
      "image/png": "[encoded data removed]",
      "text/plain": [
       "<Figure size 720x720 with 2 Axes>"
      ]
     },
     "metadata": {
      "needs_background": "light"
     },
     "output_type": "display_data"
    }
   ],
   "source": [
    "# Plotting Barplots\n",
    "plt.figure(figsize=(10,10))\n",
    "\n",
    "# Region vs Surface Area\n",
    "plt.subplot(2,1,1)\n",
    "sns.barplot(x='Region',y='Surface area (km2)',data=data)\n",
    "plt.title('Region vs Surface Area',fontsize=18)\n",
    "plt.xticks(rotation=90)\n",
    "\n",
    "# Region vs Agricultural production index\n",
    "plt.subplot(2,1,2)\n",
    "sns.barplot(x='Region',y='Agricultural production index ',data=data)\n",
    "plt.title('Region vs Agricultural production index',fontsize=18)\n",
    "plt.xticks(rotation=90)\n",
    "plt.tight_layout()"
   ]
  },
  {
   "cell_type": "markdown",
   "id": "df4405fe",
   "metadata": {},
   "source": [
    "* **Top 10 countries by Population**"
   ]
  },
  {
   "cell_type": "code",
   "execution_count": 61,
   "id": "40aa35d6",
   "metadata": {},
   "outputs": [
    {
     "data": {
      "text/plain": [
       "<AxesSubplot:xlabel='country', ylabel='Population in thousands (2017)'>"
      ]
     },
     "execution_count": 61,
     "metadata": {},
     "output_type": "execute_result"
    },
    {
     "data": {
      "image/png": "[encoded data removed]",
      "text/plain": [
       "<Figure size 1152x576 with 1 Axes>"
      ]
     },
     "metadata": {
      "needs_background": "light"
     },
     "output_type": "display_data"
    }
   ],
   "source": [
    "# Creating Barplot by assigning measures to variables\n",
    "\n",
    "population = data[['country', 'Population in thousands (2017)']]\n",
    "population = population.sort_values('Population in thousands (2017)', ascending=False).head(10)\n",
    "plt.figure(figsize=(16,8))\n",
    "sns.barplot(x=\"country\",y=\"Population in thousands (2017)\",data=population)"
   ]
  },
  {
   "cell_type": "markdown",
   "id": "cb10a72a",
   "metadata": {},
   "source": [
    "## **3.countries with respect to the region availablein the dataset**"
   ]
  },
  {
   "cell_type": "code",
   "execution_count": 33,
   "id": "04237dfd",
   "metadata": {},
   "outputs": [
    {
     "data": {
      "text/html": [
       "<div>\n",
       "<style scoped>\n",
       "    .dataframe tbody tr th:only-of-type {\n",
       "        vertical-align: middle;\n",
       "    }\n",
       "\n",
       "    .dataframe tbody tr th {\n",
       "        vertical-align: top;\n",
       "    }\n",
       "\n",
       "    .dataframe thead th {\n",
       "        text-align: right;\n",
       "    }\n",
       "</style>\n",
       "<table border=\"1\" class=\"dataframe\">\n",
       "  <thead>\n",
       "    <tr style=\"text-align: right;\">\n",
       "      <th></th>\n",
       "      <th>country</th>\n",
       "    </tr>\n",
       "    <tr>\n",
       "      <th>Region</th>\n",
       "      <th></th>\n",
       "    </tr>\n",
       "  </thead>\n",
       "  <tbody>\n",
       "    <tr>\n",
       "      <th>Caribbean</th>\n",
       "      <td>16</td>\n",
       "    </tr>\n",
       "    <tr>\n",
       "      <th>CentralAmerica</th>\n",
       "      <td>8</td>\n",
       "    </tr>\n",
       "    <tr>\n",
       "      <th>CentralAsia</th>\n",
       "      <td>5</td>\n",
       "    </tr>\n",
       "    <tr>\n",
       "      <th>EasternAfrica</th>\n",
       "      <td>17</td>\n",
       "    </tr>\n",
       "    <tr>\n",
       "      <th>EasternAsia</th>\n",
       "      <td>7</td>\n",
       "    </tr>\n",
       "    <tr>\n",
       "      <th>EasternEurope</th>\n",
       "      <td>10</td>\n",
       "    </tr>\n",
       "    <tr>\n",
       "      <th>Melanesia</th>\n",
       "      <td>5</td>\n",
       "    </tr>\n",
       "    <tr>\n",
       "      <th>Micronesia</th>\n",
       "      <td>4</td>\n",
       "    </tr>\n",
       "    <tr>\n",
       "      <th>MiddleAfrica</th>\n",
       "      <td>9</td>\n",
       "    </tr>\n",
       "    <tr>\n",
       "      <th>NorthernAfrica</th>\n",
       "      <td>5</td>\n",
       "    </tr>\n",
       "    <tr>\n",
       "      <th>NorthernAmerica</th>\n",
       "      <td>4</td>\n",
       "    </tr>\n",
       "    <tr>\n",
       "      <th>NorthernEurope</th>\n",
       "      <td>10</td>\n",
       "    </tr>\n",
       "    <tr>\n",
       "      <th>Oceania</th>\n",
       "      <td>2</td>\n",
       "    </tr>\n",
       "    <tr>\n",
       "      <th>Polynesia</th>\n",
       "      <td>5</td>\n",
       "    </tr>\n",
       "    <tr>\n",
       "      <th>South-easternAsia</th>\n",
       "      <td>11</td>\n",
       "    </tr>\n",
       "    <tr>\n",
       "      <th>SouthAmerica</th>\n",
       "      <td>12</td>\n",
       "    </tr>\n",
       "    <tr>\n",
       "      <th>SouthernAfrica</th>\n",
       "      <td>5</td>\n",
       "    </tr>\n",
       "    <tr>\n",
       "      <th>SouthernAsia</th>\n",
       "      <td>9</td>\n",
       "    </tr>\n",
       "    <tr>\n",
       "      <th>SouthernEurope</th>\n",
       "      <td>12</td>\n",
       "    </tr>\n",
       "    <tr>\n",
       "      <th>WesternAfrica</th>\n",
       "      <td>15</td>\n",
       "    </tr>\n",
       "    <tr>\n",
       "      <th>WesternAsia</th>\n",
       "      <td>18</td>\n",
       "    </tr>\n",
       "    <tr>\n",
       "      <th>WesternEurope</th>\n",
       "      <td>7</td>\n",
       "    </tr>\n",
       "  </tbody>\n",
       "</table>\n",
       "</div>"
      ],
      "text/plain": [
       "                   country\n",
       "Region                    \n",
       "Caribbean               16\n",
       "CentralAmerica           8\n",
       "CentralAsia              5\n",
       "EasternAfrica           17\n",
       "EasternAsia              7\n",
       "EasternEurope           10\n",
       "Melanesia                5\n",
       "Micronesia               4\n",
       "MiddleAfrica             9\n",
       "NorthernAfrica           5\n",
       "NorthernAmerica          4\n",
       "NorthernEurope          10\n",
       "Oceania                  2\n",
       "Polynesia                5\n",
       "South-easternAsia       11\n",
       "SouthAmerica            12\n",
       "SouthernAfrica           5\n",
       "SouthernAsia             9\n",
       "SouthernEurope          12\n",
       "WesternAfrica           15\n",
       "WesternAsia             18\n",
       "WesternEurope            7"
      ]
     },
     "execution_count": 33,
     "metadata": {},
     "output_type": "execute_result"
    }
   ],
   "source": [
    "data.groupby(['Region'])['country'].count().to_frame()"
   ]
  },
  {
   "cell_type": "markdown",
   "id": "28fc9a91",
   "metadata": {},
   "source": [
    " ## **4.Finding Region which has the highest   a. GDP per capita (current US) 𝑏.𝐼𝑛𝑡𝑒𝑟𝑛𝑎𝑡𝑖𝑜𝑛𝑎𝑙𝑡𝑟𝑎𝑑𝑒:𝐼𝑚𝑝𝑜𝑟𝑡𝑠(𝑚𝑖𝑙𝑙𝑖𝑜𝑛𝑈𝑆 )**"
   ]
  },
  {
   "cell_type": "code",
   "execution_count": 26,
   "id": "a5072723",
   "metadata": {
    "scrolled": true
   },
   "outputs": [
    {
     "data": {
      "text/html": [
       "<div>\n",
       "<style scoped>\n",
       "    .dataframe tbody tr th:only-of-type {\n",
       "        vertical-align: middle;\n",
       "    }\n",
       "\n",
       "    .dataframe tbody tr th {\n",
       "        vertical-align: top;\n",
       "    }\n",
       "\n",
       "    .dataframe thead th {\n",
       "        text-align: right;\n",
       "    }\n",
       "</style>\n",
       "<table border=\"1\" class=\"dataframe\">\n",
       "  <thead>\n",
       "    <tr style=\"text-align: right;\">\n",
       "      <th></th>\n",
       "      <th>Surface area (km2)</th>\n",
       "      <th>Population in thousands (2017)</th>\n",
       "      <th>GDP per capita (current US$)</th>\n",
       "      <th>Agricultural production index</th>\n",
       "      <th>International trade: Imports (million US$)</th>\n",
       "    </tr>\n",
       "    <tr>\n",
       "      <th>Region</th>\n",
       "      <th></th>\n",
       "      <th></th>\n",
       "      <th></th>\n",
       "      <th></th>\n",
       "      <th></th>\n",
       "    </tr>\n",
       "  </thead>\n",
       "  <tbody>\n",
       "    <tr>\n",
       "      <th>Caribbean</th>\n",
       "      <td>1.375231e+04</td>\n",
       "      <td>2431.187500</td>\n",
       "      <td>15135.562500</td>\n",
       "      <td>103.125000</td>\n",
       "      <td>3057.312500</td>\n",
       "    </tr>\n",
       "    <tr>\n",
       "      <th>CentralAmerica</th>\n",
       "      <td>3.108195e+05</td>\n",
       "      <td>22164.750000</td>\n",
       "      <td>6348.137500</td>\n",
       "      <td>122.750000</td>\n",
       "      <td>57031.500000</td>\n",
       "    </tr>\n",
       "    <tr>\n",
       "      <th>CentralAsia</th>\n",
       "      <td>8.009040e+05</td>\n",
       "      <td>14167.800000</td>\n",
       "      <td>4329.880000</td>\n",
       "      <td>130.000000</td>\n",
       "      <td>12063.400000</td>\n",
       "    </tr>\n",
       "    <tr>\n",
       "      <th>EasternAfrica</th>\n",
       "      <td>3.747603e+05</td>\n",
       "      <td>24019.411765</td>\n",
       "      <td>2088.852941</td>\n",
       "      <td>126.235294</td>\n",
       "      <td>4726.176471</td>\n",
       "    </tr>\n",
       "    <tr>\n",
       "      <th>EasternAsia</th>\n",
       "      <td>1.680572e+06</td>\n",
       "      <td>232076.857143</td>\n",
       "      <td>27967.614286</td>\n",
       "      <td>100.428571</td>\n",
       "      <td>451995.000000</td>\n",
       "    </tr>\n",
       "    <tr>\n",
       "      <th>EasternEurope</th>\n",
       "      <td>1.882619e+06</td>\n",
       "      <td>29245.500000</td>\n",
       "      <td>9292.490000</td>\n",
       "      <td>111.600000</td>\n",
       "      <td>85243.900000</td>\n",
       "    </tr>\n",
       "    <tr>\n",
       "      <th>Melanesia</th>\n",
       "      <td>1.081544e+05</td>\n",
       "      <td>2064.000000</td>\n",
       "      <td>9261.960000</td>\n",
       "      <td>103.000000</td>\n",
       "      <td>2896.400000</td>\n",
       "    </tr>\n",
       "    <tr>\n",
       "      <th>Micronesia</th>\n",
       "      <td>5.170000e+02</td>\n",
       "      <td>74.250000</td>\n",
       "      <td>5008.300000</td>\n",
       "      <td>93.500000</td>\n",
       "      <td>99.000000</td>\n",
       "    </tr>\n",
       "    <tr>\n",
       "      <th>MiddleAfrica</th>\n",
       "      <td>7.347640e+05</td>\n",
       "      <td>18166.111111</td>\n",
       "      <td>3928.833333</td>\n",
       "      <td>125.888889</td>\n",
       "      <td>4381.222222</td>\n",
       "    </tr>\n",
       "    <tr>\n",
       "      <th>NorthernAfrica</th>\n",
       "      <td>1.134020e+06</td>\n",
       "      <td>38503.600000</td>\n",
       "      <td>3934.960000</td>\n",
       "      <td>126.200000</td>\n",
       "      <td>35034.400000</td>\n",
       "    </tr>\n",
       "    <tr>\n",
       "      <th>NorthernAmerica</th>\n",
       "      <td>5.496082e+06</td>\n",
       "      <td>90300.250000</td>\n",
       "      <td>57659.000000</td>\n",
       "      <td>108.500000</td>\n",
       "      <td>663552.250000</td>\n",
       "    </tr>\n",
       "    <tr>\n",
       "      <th>NorthernEurope</th>\n",
       "      <td>1.796507e+05</td>\n",
       "      <td>10390.200000</td>\n",
       "      <td>42098.220000</td>\n",
       "      <td>112.700000</td>\n",
       "      <td>113407.200000</td>\n",
       "    </tr>\n",
       "    <tr>\n",
       "      <th>Oceania</th>\n",
       "      <td>3.980084e+06</td>\n",
       "      <td>14578.500000</td>\n",
       "      <td>44823.250000</td>\n",
       "      <td>113.500000</td>\n",
       "      <td>112914.500000</td>\n",
       "    </tr>\n",
       "    <tr>\n",
       "      <th>Polynesia</th>\n",
       "      <td>1.570200e+03</td>\n",
       "      <td>123.000000</td>\n",
       "      <td>8686.520000</td>\n",
       "      <td>108.000000</td>\n",
       "      <td>432.000000</td>\n",
       "    </tr>\n",
       "    <tr>\n",
       "      <th>South-easternAsia</th>\n",
       "      <td>4.091960e+05</td>\n",
       "      <td>58980.000000</td>\n",
       "      <td>10299.027273</td>\n",
       "      <td>138.727273</td>\n",
       "      <td>98324.636364</td>\n",
       "    </tr>\n",
       "    <tr>\n",
       "      <th>SouthAmerica</th>\n",
       "      <td>1.475521e+06</td>\n",
       "      <td>35342.416667</td>\n",
       "      <td>8499.775000</td>\n",
       "      <td>132.083333</td>\n",
       "      <td>32885.666667</td>\n",
       "    </tr>\n",
       "    <tr>\n",
       "      <th>SouthernAfrica</th>\n",
       "      <td>5.349742e+05</td>\n",
       "      <td>13028.600000</td>\n",
       "      <td>4191.900000</td>\n",
       "      <td>107.600000</td>\n",
       "      <td>18005.600000</td>\n",
       "    </tr>\n",
       "    <tr>\n",
       "      <th>SouthernAsia</th>\n",
       "      <td>7.515586e+05</td>\n",
       "      <td>207665.000000</td>\n",
       "      <td>2968.400000</td>\n",
       "      <td>119.111111</td>\n",
       "      <td>58199.333333</td>\n",
       "    </tr>\n",
       "    <tr>\n",
       "      <th>SouthernEurope</th>\n",
       "      <td>1.097802e+05</td>\n",
       "      <td>12653.666667</td>\n",
       "      <td>14462.741667</td>\n",
       "      <td>97.166667</td>\n",
       "      <td>76666.666667</td>\n",
       "    </tr>\n",
       "    <tr>\n",
       "      <th>WesternAfrica</th>\n",
       "      <td>3.881602e+05</td>\n",
       "      <td>23179.400000</td>\n",
       "      <td>1013.140000</td>\n",
       "      <td>130.333333</td>\n",
       "      <td>4898.333333</td>\n",
       "    </tr>\n",
       "    <tr>\n",
       "      <th>WesternAsia</th>\n",
       "      <td>2.713849e+05</td>\n",
       "      <td>14869.944444</td>\n",
       "      <td>17013.938889</td>\n",
       "      <td>118.111111</td>\n",
       "      <td>46025.555556</td>\n",
       "    </tr>\n",
       "    <tr>\n",
       "      <th>WesternEurope</th>\n",
       "      <td>1.583849e+05</td>\n",
       "      <td>27622.142857</td>\n",
       "      <td>55387.128571</td>\n",
       "      <td>107.000000</td>\n",
       "      <td>407498.428571</td>\n",
       "    </tr>\n",
       "  </tbody>\n",
       "</table>\n",
       "</div>"
      ],
      "text/plain": [
       "                   Surface area (km2)  Population in thousands (2017)  \\\n",
       "Region                                                                  \n",
       "Caribbean                1.375231e+04                     2431.187500   \n",
       "CentralAmerica           3.108195e+05                    22164.750000   \n",
       "CentralAsia              8.009040e+05                    14167.800000   \n",
       "EasternAfrica            3.747603e+05                    24019.411765   \n",
       "EasternAsia              1.680572e+06                   232076.857143   \n",
       "EasternEurope            1.882619e+06                    29245.500000   \n",
       "Melanesia                1.081544e+05                     2064.000000   \n",
       "Micronesia               5.170000e+02                       74.250000   \n",
       "MiddleAfrica             7.347640e+05                    18166.111111   \n",
       "NorthernAfrica           1.134020e+06                    38503.600000   \n",
       "NorthernAmerica          5.496082e+06                    90300.250000   \n",
       "NorthernEurope           1.796507e+05                    10390.200000   \n",
       "Oceania                  3.980084e+06                    14578.500000   \n",
       "Polynesia                1.570200e+03                      123.000000   \n",
       "South-easternAsia        4.091960e+05                    58980.000000   \n",
       "SouthAmerica             1.475521e+06                    35342.416667   \n",
       "SouthernAfrica           5.349742e+05                    13028.600000   \n",
       "SouthernAsia             7.515586e+05                   207665.000000   \n",
       "SouthernEurope           1.097802e+05                    12653.666667   \n",
       "WesternAfrica            3.881602e+05                    23179.400000   \n",
       "WesternAsia              2.713849e+05                    14869.944444   \n",
       "WesternEurope            1.583849e+05                    27622.142857   \n",
       "\n",
       "                   GDP per capita (current US$)  \\\n",
       "Region                                            \n",
       "Caribbean                          15135.562500   \n",
       "CentralAmerica                      6348.137500   \n",
       "CentralAsia                         4329.880000   \n",
       "EasternAfrica                       2088.852941   \n",
       "EasternAsia                        27967.614286   \n",
       "EasternEurope                       9292.490000   \n",
       "Melanesia                           9261.960000   \n",
       "Micronesia                          5008.300000   \n",
       "MiddleAfrica                        3928.833333   \n",
       "NorthernAfrica                      3934.960000   \n",
       "NorthernAmerica                    57659.000000   \n",
       "NorthernEurope                     42098.220000   \n",
       "Oceania                            44823.250000   \n",
       "Polynesia                           8686.520000   \n",
       "South-easternAsia                  10299.027273   \n",
       "SouthAmerica                        8499.775000   \n",
       "SouthernAfrica                      4191.900000   \n",
       "SouthernAsia                        2968.400000   \n",
       "SouthernEurope                     14462.741667   \n",
       "WesternAfrica                       1013.140000   \n",
       "WesternAsia                        17013.938889   \n",
       "WesternEurope                      55387.128571   \n",
       "\n",
       "                   Agricultural production index   \\\n",
       "Region                                              \n",
       "Caribbean                              103.125000   \n",
       "CentralAmerica                         122.750000   \n",
       "CentralAsia                            130.000000   \n",
       "EasternAfrica                          126.235294   \n",
       "EasternAsia                            100.428571   \n",
       "EasternEurope                          111.600000   \n",
       "Melanesia                              103.000000   \n",
       "Micronesia                              93.500000   \n",
       "MiddleAfrica                           125.888889   \n",
       "NorthernAfrica                         126.200000   \n",
       "NorthernAmerica                        108.500000   \n",
       "NorthernEurope                         112.700000   \n",
       "Oceania                                113.500000   \n",
       "Polynesia                              108.000000   \n",
       "South-easternAsia                      138.727273   \n",
       "SouthAmerica                           132.083333   \n",
       "SouthernAfrica                         107.600000   \n",
       "SouthernAsia                           119.111111   \n",
       "SouthernEurope                          97.166667   \n",
       "WesternAfrica                          130.333333   \n",
       "WesternAsia                            118.111111   \n",
       "WesternEurope                          107.000000   \n",
       "\n",
       "                   International trade: Imports (million US$)  \n",
       "Region                                                         \n",
       "Caribbean                                         3057.312500  \n",
       "CentralAmerica                                   57031.500000  \n",
       "CentralAsia                                      12063.400000  \n",
       "EasternAfrica                                     4726.176471  \n",
       "EasternAsia                                     451995.000000  \n",
       "EasternEurope                                    85243.900000  \n",
       "Melanesia                                         2896.400000  \n",
       "Micronesia                                          99.000000  \n",
       "MiddleAfrica                                      4381.222222  \n",
       "NorthernAfrica                                   35034.400000  \n",
       "NorthernAmerica                                 663552.250000  \n",
       "NorthernEurope                                  113407.200000  \n",
       "Oceania                                         112914.500000  \n",
       "Polynesia                                          432.000000  \n",
       "South-easternAsia                                98324.636364  \n",
       "SouthAmerica                                     32885.666667  \n",
       "SouthernAfrica                                   18005.600000  \n",
       "SouthernAsia                                     58199.333333  \n",
       "SouthernEurope                                   76666.666667  \n",
       "WesternAfrica                                     4898.333333  \n",
       "WesternAsia                                      46025.555556  \n",
       "WesternEurope                                   407498.428571  "
      ]
     },
     "execution_count": 26,
     "metadata": {},
     "output_type": "execute_result"
    }
   ],
   "source": [
    "# Finding the average of all measures and changing the index to region\n",
    "mean_data=data.groupby(['Region']).mean()\n",
    "mean_data"
   ]
  },
  {
   "cell_type": "markdown",
   "id": "52b713a5",
   "metadata": {},
   "source": [
    "**Region Having Highest GDP per capita**"
   ]
  },
  {
   "cell_type": "code",
   "execution_count": 40,
   "id": "0bcb3bf8",
   "metadata": {},
   "outputs": [
    {
     "data": {
      "text/html": [
       "<div>\n",
       "<style scoped>\n",
       "    .dataframe tbody tr th:only-of-type {\n",
       "        vertical-align: middle;\n",
       "    }\n",
       "\n",
       "    .dataframe tbody tr th {\n",
       "        vertical-align: top;\n",
       "    }\n",
       "\n",
       "    .dataframe thead th {\n",
       "        text-align: right;\n",
       "    }\n",
       "</style>\n",
       "<table border=\"1\" class=\"dataframe\">\n",
       "  <thead>\n",
       "    <tr style=\"text-align: right;\">\n",
       "      <th></th>\n",
       "      <th>GDP per capita (current US$)</th>\n",
       "    </tr>\n",
       "    <tr>\n",
       "      <th>Region</th>\n",
       "      <th></th>\n",
       "    </tr>\n",
       "  </thead>\n",
       "  <tbody>\n",
       "    <tr>\n",
       "      <th>NorthernAmerica</th>\n",
       "      <td>57659.000000</td>\n",
       "    </tr>\n",
       "    <tr>\n",
       "      <th>WesternEurope</th>\n",
       "      <td>55387.128571</td>\n",
       "    </tr>\n",
       "    <tr>\n",
       "      <th>Oceania</th>\n",
       "      <td>44823.250000</td>\n",
       "    </tr>\n",
       "    <tr>\n",
       "      <th>NorthernEurope</th>\n",
       "      <td>42098.220000</td>\n",
       "    </tr>\n",
       "    <tr>\n",
       "      <th>EasternAsia</th>\n",
       "      <td>27967.614286</td>\n",
       "    </tr>\n",
       "  </tbody>\n",
       "</table>\n",
       "</div>"
      ],
      "text/plain": [
       "                 GDP per capita (current US$)\n",
       "Region                                       \n",
       "NorthernAmerica                  57659.000000\n",
       "WesternEurope                    55387.128571\n",
       "Oceania                          44823.250000\n",
       "NorthernEurope                   42098.220000\n",
       "EasternAsia                      27967.614286"
      ]
     },
     "execution_count": 40,
     "metadata": {},
     "output_type": "execute_result"
    }
   ],
   "source": [
    "# sorting GDP in descending order and finding out which is larger \n",
    "region_high_GDP=mean_data.sort_values(['GDP per capita (current US$)'],ascending=False).head(5)\n",
    "region_high_GDP[['GDP per capita (current US$)']]"
   ]
  },
  {
   "cell_type": "markdown",
   "id": "4479b177",
   "metadata": {},
   "source": [
    "* **Northern America has the highest GDP per Capita worth $57659**"
   ]
  },
  {
   "cell_type": "markdown",
   "id": "e7bb40f0",
   "metadata": {},
   "source": [
    "**Region having highest International Trade**"
   ]
  },
  {
   "cell_type": "code",
   "execution_count": 42,
   "id": "9d3b49a8",
   "metadata": {},
   "outputs": [
    {
     "data": {
      "text/html": [
       "<div>\n",
       "<style scoped>\n",
       "    .dataframe tbody tr th:only-of-type {\n",
       "        vertical-align: middle;\n",
       "    }\n",
       "\n",
       "    .dataframe tbody tr th {\n",
       "        vertical-align: top;\n",
       "    }\n",
       "\n",
       "    .dataframe thead th {\n",
       "        text-align: right;\n",
       "    }\n",
       "</style>\n",
       "<table border=\"1\" class=\"dataframe\">\n",
       "  <thead>\n",
       "    <tr style=\"text-align: right;\">\n",
       "      <th></th>\n",
       "      <th>International trade: Imports (million US$)</th>\n",
       "    </tr>\n",
       "    <tr>\n",
       "      <th>Region</th>\n",
       "      <th></th>\n",
       "    </tr>\n",
       "  </thead>\n",
       "  <tbody>\n",
       "    <tr>\n",
       "      <th>NorthernAmerica</th>\n",
       "      <td>663552.250000</td>\n",
       "    </tr>\n",
       "    <tr>\n",
       "      <th>EasternAsia</th>\n",
       "      <td>451995.000000</td>\n",
       "    </tr>\n",
       "    <tr>\n",
       "      <th>WesternEurope</th>\n",
       "      <td>407498.428571</td>\n",
       "    </tr>\n",
       "    <tr>\n",
       "      <th>NorthernEurope</th>\n",
       "      <td>113407.200000</td>\n",
       "    </tr>\n",
       "    <tr>\n",
       "      <th>Oceania</th>\n",
       "      <td>112914.500000</td>\n",
       "    </tr>\n",
       "  </tbody>\n",
       "</table>\n",
       "</div>"
      ],
      "text/plain": [
       "                 International trade: Imports (million US$)\n",
       "Region                                                     \n",
       "NorthernAmerica                               663552.250000\n",
       "EasternAsia                                   451995.000000\n",
       "WesternEurope                                 407498.428571\n",
       "NorthernEurope                                113407.200000\n",
       "Oceania                                       112914.500000"
      ]
     },
     "execution_count": 42,
     "metadata": {},
     "output_type": "execute_result"
    }
   ],
   "source": [
    "# sorting International trade:imports  in descending order and finding out which is larger\n",
    "region_high_trade=mean_data.sort_values(['International trade: Imports (million US$)'],ascending=False).head(5)\n",
    "region_high_trade[['International trade: Imports (million US$)']]"
   ]
  },
  {
   "cell_type": "markdown",
   "id": "922409e2",
   "metadata": {},
   "source": [
    "* **Northern America has the highest International trade:imports worth $663552.250**"
   ]
  },
  {
   "cell_type": "markdown",
   "id": "6e6b43bd",
   "metadata": {},
   "source": [
    "### **5.Finding out which Region has more consistent with respect to GDP per capita (current US)**"
   ]
  },
  {
   "cell_type": "code",
   "execution_count": 49,
   "id": "8c1eeda6",
   "metadata": {},
   "outputs": [
    {
     "data": {
      "text/html": [
       "<div>\n",
       "<style scoped>\n",
       "    .dataframe tbody tr th:only-of-type {\n",
       "        vertical-align: middle;\n",
       "    }\n",
       "\n",
       "    .dataframe tbody tr th {\n",
       "        vertical-align: top;\n",
       "    }\n",
       "\n",
       "    .dataframe thead th {\n",
       "        text-align: right;\n",
       "    }\n",
       "</style>\n",
       "<table border=\"1\" class=\"dataframe\">\n",
       "  <thead>\n",
       "    <tr style=\"text-align: right;\">\n",
       "      <th></th>\n",
       "      <th>Region</th>\n",
       "      <th>GDP per capita (current US$)</th>\n",
       "    </tr>\n",
       "  </thead>\n",
       "  <tbody>\n",
       "    <tr>\n",
       "      <th>0</th>\n",
       "      <td>WesternAsia</td>\n",
       "      <td>1106.4</td>\n",
       "    </tr>\n",
       "  </tbody>\n",
       "</table>\n",
       "</div>"
      ],
      "text/plain": [
       "        Region  GDP per capita (current US$)\n",
       "0  WesternAsia                        1106.4"
      ]
     },
     "execution_count": 49,
     "metadata": {},
     "output_type": "execute_result"
    }
   ],
   "source": [
    "# Finding the mode of GDP\n",
    "data[['Region','GDP per capita (current US$)']].mode()"
   ]
  },
  {
   "cell_type": "markdown",
   "id": "d5c3e4a2",
   "metadata": {},
   "source": [
    "* **Western Asia is  more consistent with GDP**"
   ]
  },
  {
   "cell_type": "code",
   "execution_count": null,
   "id": "9e450031",
   "metadata": {},
   "outputs": [],
   "source": []
  }
 ],
 "metadata": {
  "kernelspec": {
   "display_name": "Python 3 (ipykernel)",
   "language": "python",
   "name": "python3"
  },
  "language_info": {
   "codemirror_mode": {
    "name": "ipython",
    "version": 3
   },
   "file_extension": ".py",
   "mimetype": "text/x-python",
   "name": "python",
   "nbconvert_exporter": "python",
   "pygments_lexer": "ipython3",
   "version": "3.9.7"
  }
 },
 "nbformat": 4,
 "nbformat_minor": 5
}
